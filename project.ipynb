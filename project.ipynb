{
  "cells": [
    {
      "cell_type": "markdown",
      "metadata": {
        "id": "ULsfOWYjP2us"
      },
      "source": [
        "# Variable Naming Conventions From Model\n",
        "\n",
        "Symbol | Variable | Explanation\n",
        "--- | --- | ---\n",
        "$T_4$ | `T_4` | Case is preserved, subscripts are replaced by underscores\n",
        "$\\alpha_T$ | `alpha_T` | Latin characters become their latex english equivalents\n",
        "$T_{4,th}$ | `T_4_th` | Commas are replaced by underscores"
      ]
    },
    {
      "cell_type": "code",
      "execution_count": null,
      "metadata": {
        "id": "UmS4NNKxNTO8"
      },
      "outputs": [],
      "source": [
        "from scipy.integrate import solve_ivp\n",
        "import matplotlib.pyplot as plt\n",
        "import numpy as np\n",
        "from google.colab import files\n",
        "from sortedcontainers import SortedDict"
      ]
    },
    {
      "cell_type": "code",
      "execution_count": null,
      "metadata": {
        "id": "GHNBntbLNdxX"
      },
      "outputs": [],
      "source": [
        "def time_delay(past: SortedDict, t: float):\n",
        "  \"\"\"\n",
        "  Computes a value of a function at a time in the past given the past.\n",
        "  Performs a linear interpolation between discrete times if necessary.\n",
        "\n",
        "  If t < 0 then the function is assumed to be 0\n",
        "  \"\"\"\n",
        "  if t <= 0.0:\n",
        "    return 0\n",
        "  left = past.bisect_right(t)\n",
        "  right = left + 1\n",
        "  lt, lv = past.peekitem(left)\n",
        "  rt, rv = past.peekitem(right) if right < len(past) else (t, lv)\n",
        "  v = lv + (rv - lv) / (rt - lt) * (t - lt)\n",
        "  if np.isnan(v):\n",
        "    return 0\n",
        "  return v\n",
        "\n",
        "def make_time_delay() -> SortedDict:\n",
        "  return SortedDict({0.0: 0.0})"
      ]
    },
    {
      "cell_type": "code",
      "execution_count": null,
      "metadata": {
        "id": "tMgJpaksPQTd"
      },
      "outputs": [],
      "source": [
        "def extended_model_args(\n",
        "    TBG=None, TBPA=None, IBS=None, TRH=None, G_H=None, D_H=None, alpha_S=None, \n",
        "    beta_S=None, L_S=None, G_T=None, D_T=None, alpha_T=None, beta_T=None, \n",
        "    K_M1=None, alpha_31=None, beta_31=None, G_D2=None, K_M2=None, alpha_32=None, \n",
        "    beta_32=None, alpha_S2=None, beta_S2=None, D_R=None, G_R=None, S_S=None, \n",
        "    D_S=None, K_30=None, K_31=None, K_41=None, K_42=None, tau_0S=None, \n",
        "    tau_0S2=None, tau_0T=None, tau_03Z=None, G_T3=None, G_D1=None, k=None):\n",
        "  \n",
        "  # Assumption: Units are right\n",
        "  params = {\n",
        "    \"TBG\": TBG if TBG is not None else 300,\n",
        "    \"TBPA\": TBPA if TBPA is not None else 4.5,\n",
        "    \"IBS\": IBS if IBS is not None else 8,\n",
        "    \"TRH\": TRH if TRH is not None else 6.9,\n",
        "    \"G_H\": G_H if G_H is not None else 817,\n",
        "    \"D_H\": D_H if D_H is not None else 47,\n",
        "    \"alpha_S\": alpha_S if alpha_S is not None else 0.4,\n",
        "    \"beta_S\": beta_S if beta_S is not None else 2.3e-4,\n",
        "    \"L_S\": L_S if L_S is not None else 1.68,\n",
        "    \"G_T\": G_T if G_T is not None else 3.4,\n",
        "    \"D_T\": D_T if D_T is not None else 2.75,\n",
        "    \"alpha_T\": alpha_T if alpha_T is not None else 0.1,\n",
        "    \"beta_T\": beta_T if beta_T is not None else 1.1e-6,\n",
        "    \"K_M1\": K_M1 if K_M1 is not None else 500,\n",
        "    \"alpha_31\": alpha_31 if alpha_31 is not None else 2.6e-2,\n",
        "    \"beta_31\": beta_31 if beta_31 is not None else 8e-6,\n",
        "    \"G_D2\": G_D2 if G_D2 is not None else 4.3,\n",
        "    \"K_M2\": K_M2 if K_M2 is not None else 1,\n",
        "    \"alpha_32\": alpha_32 if alpha_32 is not None else 1.3e-5,\n",
        "    \"beta_32\": beta_32 if beta_32 is not None else 8.3e-4,\n",
        "    \"alpha_S2\": alpha_S2 if alpha_S2 is not None else 2.6e-5,\n",
        "    \"beta_S2\": beta_S2 if beta_S2 is not None else 140,\n",
        "    \"D_R\": D_R if D_R is not None else 100,\n",
        "    \"G_R\": G_R if G_R is not None else 1,\n",
        "    \"S_S\": S_S if S_S is not None else 100,\n",
        "    \"D_S\": D_S if D_S is not None else 50,\n",
        "    \"K_30\": K_30 if K_30 is not None else 2e9,\n",
        "    \"K_31\": K_31 if K_31 is not None else 2e9,\n",
        "    \"K_41\": K_41 if K_41 is not None else 2e10,\n",
        "    \"K_42\": K_42 if K_42 is not None else 2e8,\n",
        "    \"tau_0S\": tau_0S if tau_0S is not None else 120,\n",
        "    \"tau_0S2\": tau_0S2 if tau_0S2 is not None else 3240,\n",
        "    \"tau_0T\": tau_0T if tau_0T is not None else 300,\n",
        "    \"tau_03Z\": tau_03Z if tau_03Z is not None else 3600,\n",
        "    \"G_T3\": G_T3 if G_T3 is not None else 394,\n",
        "    \"G_D1\": G_D1 if G_D1 is not None else 22,\n",
        "    \"k\": k if k is not None else 1,\n",
        "  }\n",
        "\n",
        "  return [params, SortedDict({0.0:0.0}), SortedDict({0.0:0.0}), SortedDict({0.0:0.0}), SortedDict({0.0:0.0})]\n",
        "\n",
        "def extended_model(t, Y, params, TSH_over_time, FT_4_over_time, TSH_z_over_time, T_3R_over_time):\n",
        "  \"\"\"\n",
        "  Model from _Supplementary Material: Mathematical modeling of the pituitary-thyroid \n",
        "  feedback loop: role of a TSH-T3-shunt and sensitivity analysis_\n",
        "\n",
        "  Notes:\n",
        "  - In the model TRH is a function yet in the document they say to assume that\n",
        "    it is a constant in the implementation which we also do\n",
        "  \"\"\"\n",
        "  # Read params\n",
        "  # Table S1\n",
        "  TBG = params[\"TBG\"]\n",
        "  TBPA = params[\"TBPA\"]\n",
        "  IBS = params[\"IBS\"]\n",
        "  TRH = params[\"TRH\"]\n",
        "  G_H = params[\"G_H\"]\n",
        "  D_H = params[\"D_H\"]\n",
        "  alpha_S = params[\"alpha_S\"]\n",
        "  beta_S = params[\"beta_S\"]\n",
        "  L_S = params[\"L_S\"]\n",
        "  G_T = params[\"G_T\"]\n",
        "  D_T = params[\"D_T\"]\n",
        "  # Table S2\n",
        "  alpha_T = params[\"alpha_T\"]\n",
        "  beta_T = params[\"beta_T\"]\n",
        "  K_M1 = params[\"K_M1\"]\n",
        "  alpha_31 = params[\"alpha_31\"]\n",
        "  beta_31 = params[\"beta_31\"]\n",
        "  G_D2 = params[\"G_D2\"]\n",
        "  K_M2 = params[\"K_M2\"]\n",
        "  alpha_32 = params[\"alpha_32\"]\n",
        "  beta_32 = params[\"beta_32\"]\n",
        "  alpha_S2 = params[\"alpha_S2\"]\n",
        "  beta_S2 = params[\"beta_S2\"]\n",
        "  D_R = params[\"D_R\"]\n",
        "  G_R = params[\"G_R\"]\n",
        "  S_S = params[\"S_S\"]\n",
        "  D_S = params[\"D_S\"]\n",
        "  # Table S3\n",
        "  K_30 = params[\"K_30\"]\n",
        "  K_31 = params[\"K_31\"]\n",
        "  K_41 = params[\"K_41\"]\n",
        "  K_42 = params[\"K_42\"]\n",
        "  tau_0S = params[\"tau_0S\"]\n",
        "  tau_0S2 = params[\"tau_0S2\"]\n",
        "  tau_0T = params[\"tau_0T\"]\n",
        "  tau_03Z = params[\"tau_03Z\"]\n",
        "  # Table S4\n",
        "  G_T3 = params[\"G_T3\"]\n",
        "  G_D1 = params[\"G_D1\"]\n",
        "  k = params[\"k\"]\n",
        "\n",
        "  # Destructure state\n",
        "  T_4, T_3P, T_3c, TSH, TSH_z = Y\n",
        "\n",
        "  # Calculate local variables (S6)\n",
        "  T_4_th = G_T * TSH / (TSH + D_T) # * s / l (idk what to do with this, are these just units ??)\n",
        "  FT_3 = T_3P / (1 + K_30 * TBG)\n",
        "  FT_4 = T_4 / (1 + K_41 * TBG + K_42 * TBPA)\n",
        "  T_3N = T_3c / (1 + K_31 * IBS)\n",
        "  T_3R = G_R * T_3N / (T_3N + D_R)\n",
        "\n",
        "  # Compute time delays\n",
        "  TSH_over_time[t] = TSH\n",
        "  TSH_tau_0T = time_delay(TSH_over_time, t - tau_0T)\n",
        "\n",
        "  FT_4_over_time[t] = FT_4\n",
        "  FT_4_tau03Z = time_delay(FT_4_over_time, t - tau_03Z)\n",
        "\n",
        "  # See notes above\n",
        "  TRH_tau_0S = TRH\n",
        "  TRH_tau_0S2 = TRH\n",
        "\n",
        "  TSH_z_over_time[t] = TSH_z\n",
        "  TSH_z_tau_0S = time_delay(TSH_z_over_time, t - tau_0S)\n",
        "  TSH_z_tau_0S2 = time_delay(TSH_z_over_time, t - tau_0S2)\n",
        "\n",
        "  T_3R_over_time[t] = T_3R\n",
        "  T_3R_tau_0S = time_delay(T_3R_over_time, t - tau_0S)\n",
        "  T_3R_tau_0S2 = time_delay(T_3R_over_time, t - tau_0S2)\n",
        "\n",
        "  # S1\n",
        "  dT_4 = alpha_T * G_T * TSH_tau_0T / (TSH_tau_0T + D_T) - beta_T * T_4\n",
        "\n",
        "  # S2\n",
        "  dT_3P = alpha_31 * (G_D1 * FT_4 / (FT_4 + K_M1) + G_D2 * FT_4 / (FT_4 + K_M2) +\n",
        "                      G_T3 * TSH / (TSH + D_T) + G_D1 * T_4_th * (TSH / TSH + k) / (K_M1 + T_4_th * TSH / (TSH + k)) +\n",
        "                      G_D2 * T_4_th * TSH / (TSH + k) / (K_M2 + T_4_th * TSH / (TSH + k))) - beta_31 * T_3P\n",
        "\n",
        "  # S3\n",
        "  dT_3c = alpha_32 * G_D2 * FT_4_tau03Z / (FT_4_tau03Z + K_M2) - beta_32 * T_3c\n",
        "\n",
        "  # S4\n",
        "  dTSH = alpha_S * G_H * TRH_tau_0S / ((TRH_tau_0S + D_H) * (1 + S_S * TSH_z_tau_0S / (TSH_z_tau_0S + D_S)) * (1 + L_S * T_3R_tau_0S)) - beta_S * TSH\n",
        "\n",
        "  # S5\n",
        "  dTSH_z = alpha_S2 * G_H * TRH_tau_0S2 / ((TRH_tau_0S2 + D_H) * (1 + S_S * TSH_z_tau_0S2 / (TSH_z_tau_0S2 + D_S)) * (1 + L_S * T_3R_tau_0S2)) - beta_S2 * TSH_z\n",
        "\n",
        "  return [dT_4, dT_3P, dT_3c, dTSH, dTSH_z]"
      ]
    },
    {
      "cell_type": "code",
      "execution_count": null,
      "metadata": {
        "id": "MZhoJmB7Y-m8"
      },
      "outputs": [],
      "source": [
        "# For codegen\n",
        "table_S1 = \"TBG TBPA IBS TRH G_H D_H alpha_S beta_S L_S G_T D_T\".split(\" \")\n",
        "table_S2 = \"alpha_T beta_T K_M1 alpha_31 beta_31 G_D2 K_M2 alpha_32 beta_32 alpha_S2 beta_S2 D_R G_R S_S D_S\".split(\" \")\n",
        "table_S3 = \"K_30 K_31 K_41 K_42 tau_0S tau_0S2 tau_0T tau_03Z\".split(\" \")\n",
        "table_S4 = \"G_T3 G_D1 k\".split(\" \")"
      ]
    },
    {
      "cell_type": "code",
      "execution_count": null,
      "metadata": {
        "colab": {
          "background_save": true
        },
        "id": "FOGpCwwIeVVJ",
        "outputId": "a0d9b622-abba-4a5d-c72a-53891fd82c47"
      },
      "outputs": [
        {
          "data": {
            "text/plain": [
              "[<matplotlib.lines.Line2D at 0x7f5bb628f190>]"
            ]
          },
          "execution_count": null,
          "metadata": {},
          "output_type": "execute_result"
        },
        {
          "data": {
            "image/png": "[encoded data removed]",
            "text/plain": [
              "<Figure size 432x288 with 1 Axes>"
            ]
          },
          "metadata": {},
          "output_type": "display_data"
        }
      ],
      "source": [
        "sol = solve_ivp(extended_model, [0, 60 * 60 * 24], [8, 150, 0, 3, 0], args=extended_model_args() )\n",
        "\n",
        "plt.plot(sol.t, sol.y[0])"
      ]
    },
    {
      "cell_type": "code",
      "execution_count": null,
      "metadata": {
        "id": "87CMwap0gYR-"
      },
      "outputs": [],
      "source": [
        ""
      ]
    }
  ],
  "metadata": {
    "colab": {
      "collapsed_sections": [],
      "name": "biol382-project.ipynb",
      "provenance": []
    },
    "kernelspec": {
      "display_name": "Python 3",
      "name": "python3"
    },
    "language_info": {
      "name": "python"
    }
  },
  "nbformat": 4,
  "nbformat_minor": 0
}
